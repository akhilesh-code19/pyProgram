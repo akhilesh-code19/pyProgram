{
  "nbformat": 4,
  "nbformat_minor": 0,
  "metadata": {
    "colab": {
      "provenance": [],
      "authorship_tag": "ABX9TyPllTScHk/fOU8umVYwU65P",
      "include_colab_link": true
    },
    "kernelspec": {
      "name": "python3",
      "display_name": "Python 3"
    },
    "language_info": {
      "name": "python"
    }
  },
  "cells": [
    {
      "cell_type": "markdown",
      "metadata": {
        "id": "view-in-github",
        "colab_type": "text"
      },
      "source": [
        "<a href=\"https://colab.research.google.com/github/akhilesh-code19/pyProgram/blob/main/checkPalindrome.ipynb\" target=\"_parent\"><img src=\"https://colab.research.google.com/assets/colab-badge.svg\" alt=\"Open In Colab\"/></a>"
      ]
    },
    {
      "cell_type": "markdown",
      "source": [
        "checkPalindrome"
      ],
      "metadata": {
        "id": "QktuTyFRlS2l"
      }
    },
    {
      "cell_type": "code",
      "execution_count": 1,
      "metadata": {
        "id": "XFQw6AR4lMXU"
      },
      "outputs": [],
      "source": [
        "def checkPalindrome(n):\n",
        "    l = len(n)\n",
        "    s = n[l::-1]\n",
        "    if n == s:\n",
        "        print(\"true\")\n",
        "    else:\n",
        "        print(\"false\")"
      ]
    },
    {
      "cell_type": "code",
      "source": [
        "n = input()\n",
        "checkPalindrome(n)"
      ],
      "metadata": {
        "colab": {
          "base_uri": "https://localhost:8080/"
        },
        "id": "Zu5jBH6QlVqo",
        "outputId": "cb590c0d-48ac-475a-f314-e767568a5ba6"
      },
      "execution_count": 5,
      "outputs": [
        {
          "output_type": "stream",
          "name": "stdout",
          "text": [
            "malayalam\n",
            "true\n"
          ]
        }
      ]
    }
  ]
}