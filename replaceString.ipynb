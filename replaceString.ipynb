{
  "nbformat": 4,
  "nbformat_minor": 0,
  "metadata": {
    "colab": {
      "provenance": [],
      "authorship_tag": "ABX9TyPcYSQoYj2ToH7vCw5IEQyF",
      "include_colab_link": true
    },
    "kernelspec": {
      "name": "python3",
      "display_name": "Python 3"
    },
    "language_info": {
      "name": "python"
    }
  },
  "cells": [
    {
      "cell_type": "markdown",
      "metadata": {
        "id": "view-in-github",
        "colab_type": "text"
      },
      "source": [
        "<a href=\"https://colab.research.google.com/github/akhilesh-code19/pyProgram/blob/main/replaceString.ipynb\" target=\"_parent\"><img src=\"https://colab.research.google.com/assets/colab-badge.svg\" alt=\"Open In Colab\"/></a>"
      ]
    },
    {
      "cell_type": "code",
      "execution_count": 1,
      "metadata": {
        "id": "akkrMuWicWG1"
      },
      "outputs": [],
      "source": [
        "def replace(str,char1,char2):\n",
        "  newStr = \"\"\n",
        "  for char in str:\n",
        "    if char == char1:\n",
        "      newStr += char2\n",
        "    else:\n",
        "      newStr += char\n",
        "  return newStr"
      ]
    },
    {
      "cell_type": "code",
      "source": [
        "str = \"faseskem\"\n",
        "replace(str,'s','d')"
      ],
      "metadata": {
        "colab": {
          "base_uri": "https://localhost:8080/",
          "height": 36
        },
        "id": "PI5aZBSCcYJt",
        "outputId": "84aabbc0-9da4-4484-b5ee-ff5fac70e7dd"
      },
      "execution_count": 2,
      "outputs": [
        {
          "output_type": "execute_result",
          "data": {
            "text/plain": [
              "'fadedkem'"
            ],
            "application/vnd.google.colaboratory.intrinsic+json": {
              "type": "string"
            }
          },
          "metadata": {},
          "execution_count": 2
        }
      ]
    }
  ]
}